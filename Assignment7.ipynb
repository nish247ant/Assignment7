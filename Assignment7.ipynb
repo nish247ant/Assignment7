{
 "cells": [
  {
   "cell_type": "code",
   "execution_count": null,
   "id": "7ebd833b-6db9-4067-9e16-237aa20ebfa1",
   "metadata": {},
   "outputs": [],
   "source": [
    "Q1. You are writing code for a company. The requirement of the company is that you create a python\n",
    "function that will check whether the password entered by the user is correct or not. The function should\n",
    "take the password as input and return the string “Valid Password” if the entered password follows the\n",
    "below-given password guidelines else it should return “Invalid Password”.\n",
    "Note: 1. The Password should contain at least two uppercase letters and at least two lowercase letters.\n",
    "2. The Password should contain at least a number and three special characters.\n",
    "3. The length of the password should be 10 characters long."
   ]
  },
  {
   "cell_type": "code",
   "execution_count": 1,
   "id": "6b1d618b-882c-4e49-99e1-a51e340cd087",
   "metadata": {},
   "outputs": [],
   "source": [
    "import re\n",
    "\n",
    "def check_password(password):\n",
    "    # Check length of password\n",
    "    if len(password) != 10:\n",
    "        return \"Invalid Password\"\n",
    "    \n",
    "    # Check for at least two uppercase letters\n",
    "    if len(re.findall(r'[A-Z]', password)) < 2:\n",
    "        return \"Invalid Password\"\n",
    "    \n",
    "    # Check for at least two lowercase letters\n",
    "    if len(re.findall(r'[a-z]', password)) < 2:\n",
    "        return \"Invalid Password\"\n",
    "    \n",
    "    # Check for at least one digit and three special characters\n",
    "    if len(re.findall(r'\\d', password)) < 1 or len(re.findall(r'[!@#$%^&*()-_+=]', password)) < 3:\n",
    "        return \"Invalid Password\"\n",
    "    \n",
    "    return \"Valid Password\""
   ]
  },
  {
   "cell_type": "code",
   "execution_count": null,
   "id": "85862986-6530-485c-8d95-dc4dd73f9295",
   "metadata": {},
   "outputs": [],
   "source": [
    "\"\"\"In this code, we define the function check_password that takes the password as input. The function checks the password against the given \n",
    "guidelines using regular expressions.\n",
    "\n",
    "The function first checks the length of the password. If it is not exactly 10 characters, it immediately returns \"Invalid Password\".\n",
    "\n",
    "Next, it uses regular expressions to count the occurrences of uppercase letters, lowercase letters, digits, and special characters in the\n",
    "password. If any of these counts do not meet the guidelines, the function returns \"Invalid Password\".\n",
    "\n",
    "If all the checks pass, the function returns \"Valid Password\".\n",
    "\n",
    "Here are a few examples of how to use the check_password function:\"\"\""
   ]
  },
  {
   "cell_type": "code",
   "execution_count": 2,
   "id": "4305b080-84e8-4564-be5b-2ecf95b171bf",
   "metadata": {},
   "outputs": [
    {
     "name": "stdout",
     "output_type": "stream",
     "text": [
      "Invalid Password\n",
      "Invalid Password\n",
      "Invalid Password\n",
      "Invalid Password\n"
     ]
    }
   ],
   "source": [
    "print(check_password(\"Abcd1234!@#\"))  # Output: Valid Password\n",
    "print(check_password(\"password123\"))  # Output: Invalid Password\n",
    "print(check_password(\"Abcd1234\"))     # Output: Invalid Password\n",
    "print(check_password(\"Short!Pwd12\"))  # Output: Invalid Password"
   ]
  },
  {
   "cell_type": "code",
   "execution_count": null,
   "id": "33a3430f-cf38-4792-ad74-6ed5af3f2aa5",
   "metadata": {},
   "outputs": [],
   "source": [
    "\"\"\"In these examples, the function is called with different passwords. The output will be \"Valid Password\" if the password meets the \n",
    "guidelines and \"Invalid Password\" otherwise.\"\"\""
   ]
  },
  {
   "cell_type": "code",
   "execution_count": null,
   "id": "4678cbed-71ea-45ec-bebd-3de2e27e723b",
   "metadata": {},
   "outputs": [],
   "source": [
    "Q2. Solve the below-given questions using at least one of the following:\n",
    "1. Lambda functioJ\n",
    "2. Filter functioJ\n",
    "3. Zap functioJ\n",
    "4. List ComprehensioI\n",
    "B Check if the string starts with a particular letterY\n",
    "B Check if the string is numericY\n",
    "B Sort a list of tuples having fruit names and their quantity. [(\"mango\",99),(\"orange\",80), (\"grapes\", 1000)-\n",
    "B Find the squares of numbers from 1 to 10Y\n",
    "B Find the cube root of numbers from 1 to 10Y\n",
    "B Check if a given number is evenY\n",
    "B Filter odd numbers from the given list.\n",
    "[1,2,3,4,5,6,7,8,9,10-\n",
    "B Sort a list of integers into positive and negative integers lists.\n",
    "[1,2,3,4,5,6,-1,-2,-3,-4,-5,0]"
   ]
  },
  {
   "cell_type": "code",
   "execution_count": null,
   "id": "b7fbc22f-97fb-49e4-b666-62fcbe7b7795",
   "metadata": {},
   "outputs": [],
   "source": [
    "#Check if the string starts with a particular letter:\n",
    "strings = ['apple', 'banana', 'cherry', 'date', 'elderberry']\n",
    "letter = 'b'\n",
    "\n",
    "result = list(filter(lambda x: x.startswith(letter), strings))\n",
    "print(result)  # Output: ['banana']"
   ]
  },
  {
   "cell_type": "code",
   "execution_count": null,
   "id": "65d30137-6b10-492a-9d42-e2dc5882fac0",
   "metadata": {},
   "outputs": [],
   "source": [
    "#Check if the string is numeric:\n",
    "strings = ['123', 'abc', '45.6', '789', 'xyz']\n",
    "\n",
    "result = list(filter(lambda x: x.isnumeric(), strings))\n",
    "print(result)  # Output: ['123', '789']"
   ]
  },
  {
   "cell_type": "code",
   "execution_count": null,
   "id": "0c9ef427-a1c2-4a19-90e8-bee85e9baf13",
   "metadata": {},
   "outputs": [],
   "source": [
    "#Sort a list of tuples having fruit names and their quantity:\n",
    "fruits = [(\"mango\", 99), (\"orange\", 80), (\"grapes\", 1000)]\n",
    "\n",
    "sorted_fruits = sorted(fruits, key=lambda x: x[1])\n",
    "print(sorted_fruits)\n",
    "# Output: [('orange', 80), ('mango', 99), ('grapes', 1000)]"
   ]
  },
  {
   "cell_type": "code",
   "execution_count": null,
   "id": "661153e2-eb51-4f43-b78c-d8e180776323",
   "metadata": {},
   "outputs": [],
   "source": [
    "#Find the squares of numbers from 1 to 10:\n",
    "squares = [x**2 for x in range(1, 11)]\n",
    "print(squares)  # Output: [1, 4, 9, 16, 25, 36, 49, 64, 81, 100]"
   ]
  },
  {
   "cell_type": "code",
   "execution_count": null,
   "id": "2f1dccd1-b2ad-4f2b-a30b-be09b0587f67",
   "metadata": {},
   "outputs": [],
   "source": [
    "#Find the cube root of numbers from 1 to 10:\n",
    "import math\n",
    "\n",
    "cube_roots = [math.pow(x, 1/3) for x in range(1, 11)]\n",
    "print(cube_roots)  "
   ]
  },
  {
   "cell_type": "code",
   "execution_count": null,
   "id": "995219c2-d4e9-4c16-8d46-c8009f745eb0",
   "metadata": {},
   "outputs": [],
   "source": [
    "#Check if a given number is even:\n",
    "numbers = [1, 2, 3, 4, 5, 6, 7, 8, 9, 10]\n",
    "number = 7\n",
    "\n",
    "is_even = number % 2 == 0\n",
    "print(is_even)  # Output: False"
   ]
  },
  {
   "cell_type": "code",
   "execution_count": null,
   "id": "980eaa4f-a792-4a13-a70f-773dad9342db",
   "metadata": {},
   "outputs": [],
   "source": [
    "#Filter odd numbers from the given list:\n"
   ]
  },
  {
   "cell_type": "code",
   "execution_count": null,
   "id": "5cf783ce-088a-47c5-aa86-b0b5eed2b09a",
   "metadata": {},
   "outputs": [],
   "source": []
  }
 ],
 "metadata": {
  "kernelspec": {
   "display_name": "Python 3 (ipykernel)",
   "language": "python",
   "name": "python3"
  },
  "language_info": {
   "codemirror_mode": {
    "name": "ipython",
    "version": 3
   },
   "file_extension": ".py",
   "mimetype": "text/x-python",
   "name": "python",
   "nbconvert_exporter": "python",
   "pygments_lexer": "ipython3",
   "version": "3.10.8"
  }
 },
 "nbformat": 4,
 "nbformat_minor": 5
}
